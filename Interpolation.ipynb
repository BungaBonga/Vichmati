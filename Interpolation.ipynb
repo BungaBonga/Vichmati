{
 "cells": [
  {
   "cell_type": "code",
   "execution_count": 1,
   "id": "dd988291",
   "metadata": {},
   "outputs": [],
   "source": [
    "import numpy as np"
   ]
  },
  {
   "cell_type": "markdown",
   "id": "4f15ccf1",
   "metadata": {},
   "source": [
    "Точность решения оцениваем по следующей формуле:\n",
    "$$E \\leq \\frac{M_4}{4!}|w(0)|$$\n",
    "$$|w(0)| = 0.288\\cdot 0.086 \\cdot (-0.135) \\cdot (-0.392) \\approx 0.0935$$\n",
    "Производную оцениваем используя формулу производной обратной функции: $$x'(f) = \\frac{1}{f'(x)}$$ Тогда, построив 4 производную в десмосе, можно получить оценку оценку $M_4\\leq 1$.\n",
    "И тогда $$E\\leq \\frac{1}{24} * 0.0935\\approx 0.003896$$"
   ]
  },
  {
   "cell_type": "code",
   "execution_count": 2,
   "id": "b976394b",
   "metadata": {},
   "outputs": [],
   "source": [
    "def l_i(x, i, data):\n",
    "    l = 1\n",
    "    for j in range(len(data)):\n",
    "        if j != i:\n",
    "            l  = l * (x - data[j]) / (data[i] - data[j])\n",
    "    \n",
    "    return l"
   ]
  },
  {
   "cell_type": "code",
   "execution_count": 3,
   "id": "0adb62d3",
   "metadata": {},
   "outputs": [
    {
     "name": "stdout",
     "output_type": "stream",
     "text": [
      "Результат метода обратной интерполяции: 3.7221020346971465\n"
     ]
    }
   ],
   "source": [
    "f = [1.118, 0.355, -0.463, -1.330]\n",
    "x = [3.65, 3.7, 3.75, 3.8]\n",
    "\n",
    "Ln = 0\n",
    "for i in range(len(x)):\n",
    "    Ln += x[i] * l_i(0, i, f)\n",
    "    \n",
    "print(\"Результат метода обратной интерполяции: \" + str(Ln))"
   ]
  },
  {
   "cell_type": "code",
   "execution_count": 4,
   "id": "abbc7db4",
   "metadata": {},
   "outputs": [
    {
     "name": "stdout",
     "output_type": "stream",
     "text": [
      "-3.333333333333334\n"
     ]
    }
   ],
   "source": [
    "f = [-2, 3, 0, -5, -6, 3, 28]\n",
    "S = 0\n",
    "for i in range(len(f)-2):\n",
    "    S += 1/3 * (f[i] + 4*f[i+1] + f[i+2])\n",
    "\n",
    "print(S)"
   ]
  },
  {
   "cell_type": "markdown",
   "id": "2b54fda6",
   "metadata": {},
   "source": [
    "Задача 9.2(d) \n",
    "$$\\frac{d}{dx}L_n(x) = \\sum_{k=0}^nf_k\\frac{dl_k(x)}{dx}$$"
   ]
  },
  {
   "cell_type": "code",
   "execution_count": 5,
   "id": "c9c48616",
   "metadata": {},
   "outputs": [],
   "source": [
    "def dl_k(x, k, y):\n",
    "    p = 0\n",
    "    q = 1\n",
    "    \n",
    "    for i in range(len(y)):\n",
    "        if i != k:\n",
    "            q  = q * (y[k] - y[i])\n",
    "            \n",
    "    for j in range(len(y)):\n",
    "        t = 1\n",
    "        if j != k:\n",
    "            for i in range(len(y)):\n",
    "                if (i != k) and (i != j):\n",
    "                    t *= (x - y[i])\n",
    "            p += t\n",
    "    \n",
    "    dl = p/q\n",
    "    \n",
    "    return dl"
   ]
  },
  {
   "cell_type": "code",
   "execution_count": 7,
   "id": "78f77aa8",
   "metadata": {},
   "outputs": [
    {
     "name": "stdout",
     "output_type": "stream",
     "text": [
      "f'(3) = -0.10547619047619049\n"
     ]
    }
   ],
   "source": [
    "f = [1, 0.5, 0.3, 0.2, 0.1]\n",
    "x = [0, 1, 2, 5, 7]\n",
    "\n",
    "dLn = 0\n",
    "for i in range(len(x)):\n",
    "    dLn += f[i] * dl_k(2, i, x)\n",
    "    \n",
    "print(\"f'(3) = \" + str(dLn))"
   ]
  },
  {
   "cell_type": "markdown",
   "id": "31b37b2d",
   "metadata": {},
   "source": [
    "Метод неопределенных коэффициентов в пдф."
   ]
  },
  {
   "cell_type": "markdown",
   "id": "b797cc83",
   "metadata": {},
   "source": [
    "В методе неопределенных коэффициентов получена следующая формула $$f = \\frac{1}{h}(\\alpha f(0) + \\beta f(1) + \\gamma f(2) + nf(5) + mf(7))$$ Где $\\alpha = \\frac{3}{14}, \\beta = -\\frac{5}{4}, \\gamma = \\frac{29}{30}, n = \\frac{1}{12}, m = -\\frac{1}{70}$. Сравним с коэффициентами, полученными интерполяцией:"
   ]
  },
  {
   "cell_type": "code",
   "execution_count": 12,
   "id": "66d81220",
   "metadata": {},
   "outputs": [
    {
     "name": "stdout",
     "output_type": "stream",
     "text": [
      "0.21428571428571427 0.21428571428571427\n",
      "-1.25 -1.25\n",
      "0.9666666666666667 0.9666666666666667\n",
      "0.08333333333333333 0.08333333333333333\n",
      "-0.014285714285714285 -0.014285714285714285\n"
     ]
    }
   ],
   "source": [
    "print(dl_k(2, 0, x), 3/14)\n",
    "print(dl_k(2, 1, x), -5/4)\n",
    "print(dl_k(2, 2, x), 29/30)\n",
    "print(dl_k(2, 3, x), 1/12)\n",
    "print(dl_k(2, 4, x), -1/70)"
   ]
  },
  {
   "cell_type": "markdown",
   "id": "b54af6bd",
   "metadata": {},
   "source": [
    "Как видно$~-$ коэффициенты совпадают, а значит и формулы тоже совпадают."
   ]
  }
 ],
 "metadata": {
  "kernelspec": {
   "display_name": "Python 3 (ipykernel)",
   "language": "python",
   "name": "python3"
  },
  "language_info": {
   "codemirror_mode": {
    "name": "ipython",
    "version": 3
   },
   "file_extension": ".py",
   "mimetype": "text/x-python",
   "name": "python",
   "nbconvert_exporter": "python",
   "pygments_lexer": "ipython3",
   "version": "3.9.12"
  }
 },
 "nbformat": 4,
 "nbformat_minor": 5
}
