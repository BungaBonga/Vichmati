{
 "cells": [
  {
   "cell_type": "code",
   "execution_count": 21,
   "id": "d61ff15c",
   "metadata": {},
   "outputs": [],
   "source": [
    "import matplotlib.pyplot as plt\n",
    "import numpy as np"
   ]
  },
  {
   "cell_type": "code",
   "execution_count": 22,
   "id": "f2500ffe",
   "metadata": {},
   "outputs": [],
   "source": [
    "age = np.array([20, 21, 22, 23, 24, 25, 26, 27, 28, 29, 30, 31, 32, 33, 34, 35, 36, 37, 38, 39, 40, 41, 42, 43, 44, 45])\n",
    "num = [431, 409, 429, 422, 530, 505, 459, 499, 526, 563, 587, 595, 647, 669, 746, 760, 778, 828, 846, 836, 916, 956, 1014, 1076, 1134, 1024]\n",
    "age1 = [20, 21, 22, 23, 24, 25, 26, 27, 28]\n",
    "age2 = [28, 29, 30, 31, 32, 33, 34, 35, 36, 37, 38, 39]\n",
    "age3 = [39, 40, 41, 42, 43, 44, 45]\n",
    "num1 = [431, 409, 429, 422, 530, 505, 459, 499, 526]\n",
    "num2 = [526, 563, 587, 595, 647, 669, 746, 760, 778, 828, 846, 836]\n",
    "num3 = [836, 916, 956, 1014, 1076, 1134, 1024]"
   ]
  },
  {
   "cell_type": "code",
   "execution_count": 23,
   "id": "9077a667",
   "metadata": {},
   "outputs": [],
   "source": [
    "def coeffs(x, y):\n",
    "    M = np.empty((2, 2))\n",
    "    M[[0], [0]] = sum((x[i])**2 for i in range(0, len(x)))\n",
    "    M[[0], [1]] = sum(x)\n",
    "    M[[1], [0]] = sum(x)\n",
    "    M[[1], [1]] = len(x)\n",
    "    M = np.linalg.inv(M)\n",
    "    B = np.empty((2, 1))\n",
    "    B[0] = sum((x[i] * y[i]) for i in range(0, len(x)))\n",
    "    B[1] = sum((y[i]) for i in range(0, len(x)))\n",
    "    p = np.dot(M, B)\n",
    "    return p[1][0], p[0][0]"
   ]
  },
  {
   "cell_type": "code",
   "execution_count": 24,
   "id": "83161442",
   "metadata": {},
   "outputs": [],
   "source": [
    "def coeffs_adv(x, y, phi):\n",
    "    A = np.empty((4, 4))\n",
    "    for i in range(4):\n",
    "        for j in range(4):\n",
    "            A[i][j] = sum((phi[i][k])*(phi[j][k]) for k in range(0, len(phi[i])))\n",
    "            \n",
    "    A = np.linalg.inv(A)\n",
    "    \n",
    "    C = np.empty((4, 1))\n",
    "    for i in range(0, 4):\n",
    "        C[i] = sum(y[k]*phi[i][k] for k in range(0, len(y)))\n",
    "    \n",
    "    ww = np.dot(A, C)\n",
    "    return ww"
   ]
  },
  {
   "cell_type": "code",
   "execution_count": 25,
   "id": "85eb5705",
   "metadata": {},
   "outputs": [
    {
     "data": {
      "image/png": "[encoded data removed]",
      "text/plain": [
       "<Figure size 432x288 with 1 Axes>"
      ]
     },
     "metadata": {
      "needs_background": "light"
     },
     "output_type": "display_data"
    }
   ],
   "source": [
    "b, a = coeffs(age, num)\n",
    "x =[]\n",
    "for i in range(len(num)):\n",
    "    x.append(age[i])\n",
    "y = []\n",
    "for i in range(len(num)):\n",
    "    y.append(a * age[i] + b)\n",
    "\n",
    "plt.plot(x, y)\n",
    "plt.scatter(age, num)\n",
    "plt.show()"
   ]
  },
  {
   "cell_type": "code",
   "execution_count": 26,
   "id": "2dc9fb83",
   "metadata": {},
   "outputs": [
    {
     "data": {
      "image/png": "[encoded data removed]",
      "text/plain": [
       "<Figure size 432x288 with 1 Axes>"
      ]
     },
     "metadata": {
      "needs_background": "light"
     },
     "output_type": "display_data"
    }
   ],
   "source": [
    "b1, a1 = coeffs(age1, num1)\n",
    "x_new1 =[]\n",
    "for i in range(len(num1)):\n",
    "    x_new1.append(age1[i])\n",
    "y_new1 = []\n",
    "for i in range(len(num1)):\n",
    "    y_new1.append(a1 * age1[i] + b1)\n",
    "\n",
    "b2, a2 = coeffs(age2, num2)\n",
    "x_new2 =[]\n",
    "for i in range(len(num2)):\n",
    "    x_new2.append(age2[i])\n",
    "y_new2 = []\n",
    "for i in range(len(num2)):\n",
    "    y_new2.append(a2 * age2[i] + b2)\n",
    "    \n",
    "b3, a3 = coeffs(age3, num3)\n",
    "x_new3 =[]\n",
    "for i in range(len(num3)):\n",
    "    x_new3.append(age3[i])\n",
    "y_new3 = []\n",
    "for i in range(len(num3)):\n",
    "    y_new3.append(a3 * age3[i] + b3)\n",
    "\n",
    "plt.plot(x_new1, y_new1)\n",
    "plt.plot(x_new2, y_new2)\n",
    "plt.plot(x_new3, y_new3)\n",
    "plt.scatter(age, num)\n",
    "plt.show()"
   ]
  },
  {
   "cell_type": "code",
   "execution_count": 29,
   "id": "4faa0482",
   "metadata": {},
   "outputs": [],
   "source": [
    "phi1 = []\n",
    "for i in range(len(x)):\n",
    "    if (x[i] <= 28):\n",
    "        phi1.append((-1/8)*x[i] + 3.5)\n",
    "    else: \n",
    "        phi1.append(0.0)\n",
    "phi2 = []\n",
    "for i in range(len(x)):\n",
    "    if (x[i] <= 28):\n",
    "        phi2.append((1/8)*x[i] - 2.5)\n",
    "    else: \n",
    "        if (x[i] <= 39):\n",
    "            phi2.append((-1/11)*x[i] + 39/11)\n",
    "        else:\n",
    "            phi2.append(0.0)\n",
    "phi3 = []\n",
    "for i in range(len(x)):\n",
    "    if (x[i] <= 28):\n",
    "        phi3.append(0.0)\n",
    "    else: \n",
    "        if (x[i] <= 39):\n",
    "            phi3.append((1/11)*x[i] - 28/11)\n",
    "        else:\n",
    "            phi3.append((-1/6)*x[i] + 7.5)\n",
    "phi4 = []\n",
    "for i in range(len(x)):\n",
    "    if (x[i] <= 39):\n",
    "        phi4.append(0.0)\n",
    "    else:\n",
    "        phi4.append((1/6)*x[i] - 6.5)\n",
    "phi = []\n",
    "phi.append(phi1)\n",
    "phi.append(phi2)\n",
    "phi.append(phi3)\n",
    "phi.append(phi4)"
   ]
  },
  {
   "cell_type": "code",
   "execution_count": 30,
   "id": "3cb986c9",
   "metadata": {},
   "outputs": [
    {
     "data": {
      "image/png": "[encoded data removed]",
      "text/plain": [
       "<Figure size 432x288 with 1 Axes>"
      ]
     },
     "metadata": {
      "needs_background": "light"
     },
     "output_type": "display_data"
    }
   ],
   "source": [
    "A = coeffs_adv(x, num, phi)\n",
    "Y = []\n",
    "for i in range(len(num)):\n",
    "    Y.append(A[0][0]*phi1[i] + A[1][0]*phi2[i] + A[2][0]*phi3[i] + A[3][0]*phi4[i])\n",
    "\n",
    "plt.plot(x, Y)\n",
    "plt.scatter(age, num)\n",
    "plt.show()"
   ]
  },
  {
   "cell_type": "code",
   "execution_count": 31,
   "id": "365b68c5",
   "metadata": {},
   "outputs": [
    {
     "name": "stdout",
     "output_type": "stream",
     "text": [
      "Ошибка 1 = 56451.89675213676\n",
      "Ошибка 2 = 25269.91358537426\n",
      "Ошибка 3 = 25092.25847663511\n"
     ]
    }
   ],
   "source": [
    "err1 = []\n",
    "err2 = []\n",
    "err3 = []\n",
    "y_s = y_new1 + y_new2 + y_new3\n",
    "y_s.pop(len(y_new1))\n",
    "y_s.pop(len(y_new1) + len(y_new2) - 1)\n",
    "for i in range(len(num)):\n",
    "    err1.append(num[i] - y[i])\n",
    "    err2.append(num[i] - y_s[i])\n",
    "    err3.append(num[i] - Y[i])\n",
    "print(\"Ошибка 1 =\", (np.linalg.norm(err1))**2)\n",
    "print(\"Ошибка 2 =\", (np.linalg.norm(err2))**2)\n",
    "print(\"Ошибка 3 =\", (np.linalg.norm(err3))**2)"
   ]
  }
 ],
 "metadata": {
  "kernelspec": {
   "display_name": "Python 3 (ipykernel)",
   "language": "python",
   "name": "python3"
  },
  "language_info": {
   "codemirror_mode": {
    "name": "ipython",
    "version": 3
   },
   "file_extension": ".py",
   "mimetype": "text/x-python",
   "name": "python",
   "nbconvert_exporter": "python",
   "pygments_lexer": "ipython3",
   "version": "3.9.12"
  }
 },
 "nbformat": 4,
 "nbformat_minor": 5
}
