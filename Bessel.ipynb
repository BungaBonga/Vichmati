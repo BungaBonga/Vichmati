{
 "cells": [
  {
   "cell_type": "markdown",
   "id": "1feab3f3",
   "metadata": {},
   "source": [
    "# Функция Бесселя и ее производная "
   ]
  },
  {
   "cell_type": "code",
   "execution_count": 26,
   "id": "8ba91fa1",
   "metadata": {},
   "outputs": [
    {
     "name": "stdout",
     "output_type": "stream",
     "text": [
      "ответ = -0.44005048298077826\n",
      "эталон = -0.44005058574493355\n",
      "ошибка = 2.3352805024098974e-07\n"
     ]
    }
   ],
   "source": [
    "import math \n",
    "from scipy import special \n",
    "\n",
    "def bessel(x: float, N: int) -> float:\n",
    "    S = 0\n",
    "    for k in range(N):\n",
    "        S += ((-1)**k) * ((x / 2)**(2*k)) / (math.factorial(k))**2 \n",
    "    return S\n",
    "h = 2**(1/2) * 10**(-3)\n",
    "x = 1\n",
    "N = 6\n",
    "res = (bessel(x+h, N) - bessel(x-h, N)) / (2*h)\n",
    "exact_value = scipy.special.jvp(0, 1, n = 1)\n",
    "error = abs(exact_value - res) / abs(exact_value)\n",
    "print(f'ответ = {res}')\n",
    "print(f'эталон = {exact_value}')\n",
    "print(f'ошибка = {error}')"
   ]
  }
 ],
 "metadata": {
  "kernelspec": {
   "display_name": "Python 3 (ipykernel)",
   "language": "python",
   "name": "python3"
  },
  "language_info": {
   "codemirror_mode": {
    "name": "ipython",
    "version": 3
   },
   "file_extension": ".py",
   "mimetype": "text/x-python",
   "name": "python",
   "nbconvert_exporter": "python",
   "pygments_lexer": "ipython3",
   "version": "3.9.12"
  }
 },
 "nbformat": 4,
 "nbformat_minor": 5
}
