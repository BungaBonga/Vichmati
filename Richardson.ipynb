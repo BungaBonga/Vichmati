{
 "cells": [
  {
   "cell_type": "code",
   "execution_count": 7,
   "id": "5d7433df",
   "metadata": {},
   "outputs": [],
   "source": [
    "import math\n",
    "import numpy as np\n",
    "import scipy as sp\n",
    "np.set_printoptions(threshold = 10001)"
   ]
  },
  {
   "cell_type": "markdown",
   "id": "6d254876",
   "metadata": {},
   "source": [
    "# Степенной метод"
   ]
  },
  {
   "cell_type": "code",
   "execution_count": 8,
   "id": "aea7ed3c",
   "metadata": {},
   "outputs": [],
   "source": [
    "def power_iteration1(A, eps: float):\n",
    "    b_k = np.random.rand(A.shape[1])\n",
    "    while True:\n",
    "        t = np.dot(A, b_k)\n",
    "        b_k0 = b_k\n",
    "        b_k = t / np.linalg.norm(t)\n",
    "        lambda_k0 = np.dot(b_k0.T, t) / np.dot(b_k0.T, b_k0)\n",
    "        lambda_k = np.dot(b_k.T, np.dot(A, b_k)) / np.dot(b_k.T, b_k)\n",
    "        if ((abs(lambda_k - lambda_k0) / abs(lambda_k0)) < eps):\n",
    "            break\n",
    "    return abs(lambda_k)"
   ]
  },
  {
   "cell_type": "markdown",
   "id": "2b34ea29",
   "metadata": {},
   "source": [
    "# Функция для поиска оптимального параметра"
   ]
  },
  {
   "cell_type": "markdown",
   "id": "c1c52ed2",
   "metadata": {},
   "source": [
    "Функция получает на вход матрицу A, столбец b, размеры матрицы N и начальное приближение $\\tau_0$. Мы знаем, что зона поиска - интервал $(0, \\frac{2}{\\lambda_{max}})$, поэтому делаем следующее: мы вокруг $\\tau_0$, которое и есть $\\frac{2}{\\lambda_{max}}$, берем две точки $\\tau_1$, $\\tau_2$ и теперь для каждой из трех $\\tau$ считаем 10 итераций метода Ричардсона. После чего сравниваем нормы невязок в каждом случае и запускаемся снова с тем $\\tau$, для которого норма невязки наименьшая(не забывая проверить, что максимальное по модулю собственное число меньше единицы).\n",
    "Критерием остановки тут служит малое изменение нормы невязки, т.е. если норма невязки меняется меньше, чем на $\\epsilon = 1$, то мы останавливаемся с текущим $\\tau$."
   ]
  },
  {
   "cell_type": "code",
   "execution_count": 9,
   "id": "f7d84518",
   "metadata": {},
   "outputs": [],
   "source": [
    "def tau(A: list, b: list, N: int, tau_opt0: float) -> float:\n",
    "    tau_opt1 = tau_opt0 + (1 / N)\n",
    "    tau_opt2 = tau_opt0 - (1 / N)\n",
    "    x = np.zeros(N + 1)\n",
    "    for i in range(10):\n",
    "        nev0 = b - (A @ x)\n",
    "        x = x + (tau_opt0 * nev0)\n",
    "    x = np.zeros(N + 1)\n",
    "    for k in range(10):\n",
    "        nev1 = b - (A @ x)\n",
    "        x = x + (tau_opt1 * nev1)\n",
    "    x = np.zeros(N + 1)\n",
    "    for t in range(10):\n",
    "        nev2 = b - (A @ x)\n",
    "        x = x + (tau_opt2 * nev2)\n",
    "    T = np.eye(N + 1)\n",
    "    if (np.linalg.norm(nev0) - np.linalg.norm(nev1) >= 1)and(power_iteration1(T - tau_opt1*A, 10**(-5)) < 1):\n",
    "        if (np.linalg.norm(nev1) - np.linalg.norm(nev2) >= 1)and(power_iteration1(T - tau_opt2*A, 10**(-5)) < 1):\n",
    "            return tau(A, b, N, tau_opt2)\n",
    "        return tau(A, b, N, tau_opt1)\n",
    "    if (np.linalg.norm(nev0) - np.linalg.norm(nev2) >= 1)and(power_iteration1(T - tau_opt2*A, 10**(-5)) < 1):\n",
    "        return tau(A, b, N, tau_opt2)\n",
    "    return tau_opt0"
   ]
  },
  {
   "cell_type": "markdown",
   "id": "0a4794d7",
   "metadata": {},
   "source": [
    "# Метод Ричардсона"
   ]
  },
  {
   "cell_type": "code",
   "execution_count": 10,
   "id": "b743c7c4",
   "metadata": {},
   "outputs": [],
   "source": [
    "def Rich_for_A(A: list, b: list, eps: float) -> list:\n",
    "    C = A.T @ A\n",
    "    B = A.T @ b\n",
    "    N = len(A) - 1\n",
    "    lambda_max = power_iteration1(C, eps)\n",
    "    T = np.eye(N + 1)\n",
    "    lambda_min = power_iteration1(C, eps)-power_iteration1(C - lambda_max*T, eps)\n",
    "    mu = (lambda_max / lambda_min)**(1/2)\n",
    "    lambda_max = power_iteration1(A, eps)\n",
    "    x = np.zeros(N + 1)\n",
    "    tau_opt = tau(A, b, N, (2 / lambda_max))\n",
    "    while True:\n",
    "        nev = b - (A @ x)\n",
    "        x = x + (tau_opt * nev)\n",
    "        nev1 = b - (A @ x)\n",
    "        if (np.linalg.norm(nev) < np.linalg.norm(nev1)):\n",
    "            break\n",
    "        if ((mu * np.linalg.norm(nev) / np.linalg.norm(b)) < eps):\n",
    "            break\n",
    "    return x"
   ]
  },
  {
   "cell_type": "markdown",
   "id": "fdf3b279",
   "metadata": {},
   "source": [
    "# Тест на матрице из дз"
   ]
  },
  {
   "cell_type": "code",
   "execution_count": 21,
   "id": "6ab25909",
   "metadata": {
    "scrolled": false
   },
   "outputs": [
    {
     "name": "stdout",
     "output_type": "stream",
     "text": [
      "Вектор ответов имеет вид: [0.0229216  0.09689632 0.16487606 0.22670647 0.28230881 0.33422872\n",
      " 0.38818381 0.44352799 0.49958075 0.55564397 0.61130217 0.66678018\n",
      " 0.72223329 0.77774151 0.83330658 0.8888834  0.94445169 1.00000851\n",
      " 1.05555999 1.11111247 1.16666732 1.22222358 1.27777999 1.33333593\n",
      " 1.38889152 1.44444702 1.50000258 1.55555823 1.61111391 1.66666958\n",
      " 1.72222524 1.77778089 1.83333654 1.88889219 1.94444784 2.00000349\n",
      " 2.05555915 2.1111148  2.16667045 2.2222261  2.27778176 2.33333741\n",
      " 2.38889306 2.44444871 2.50000437 2.55556002 2.61111567 2.66667132\n",
      " 2.72222698 2.77778263 2.83333828 2.88889393 2.94444959 3.00000524\n",
      " 3.05556089 3.11111654 3.16667219 3.22222785 3.2777835  3.33333915\n",
      " 3.38889479 3.44445042 3.50000607 3.55556174 3.61111746 3.66667314\n",
      " 3.72222867 3.77778398 3.83333927 3.88889511 3.94445208 4.00000963\n",
      " 4.0555654  4.11111613 4.1666615  4.22221152 4.27778272 4.33338314\n",
      " 4.38898723 4.44450225 4.49986894 4.55516115 4.61067833 4.66702509\n",
      " 4.72391005 4.78015151 4.83372689 4.88186389 4.93253421 4.99369186\n",
      " 5.07297871 5.17744148 5.2109882  5.17348623 5.06656377 4.89355514\n",
      " 5.57993653 6.27004539 6.95598747 7.63004942]\n"
     ]
    }
   ],
   "source": [
    "N = 99\n",
    "i = 0\n",
    "k = 0\n",
    "A = np.zeros((N + 1, N + 1))\n",
    "for i in range(N + 1):\n",
    "    if i < 5:\n",
    "        for k in range(i + 5):\n",
    "            A[i][k] = 1\n",
    "        A[i][i] = 10\n",
    "        continue\n",
    "    if i >= N - 4:\n",
    "        for k in range(5 + (N - i)):\n",
    "            A[i][N-k] = 1\n",
    "        A[i][i] = 10\n",
    "        continue\n",
    "    A[i][i - 4] = 1\n",
    "    A[i][i - 3] = 1\n",
    "    A[i][i - 2] = 1\n",
    "    A[i][i - 1] = 1\n",
    "    A[i][i] = 10\n",
    "    A[i][i + 1] = 1\n",
    "    A[i][i + 2] = 1\n",
    "    A[i][i + 3] = 1\n",
    "    A[i][i + 4] = 1\n",
    "b = np.zeros(N + 1)\n",
    "for i in range(N + 1):\n",
    "    b[i] = i + 1\n",
    "eps = 10**(-5)\n",
    "print(\"Вектор ответов имеет вид: \" + str(Rich_for_A(A, b, eps)))"
   ]
  }
 ],
 "metadata": {
  "kernelspec": {
   "display_name": "Python 3 (ipykernel)",
   "language": "python",
   "name": "python3"
  },
  "language_info": {
   "codemirror_mode": {
    "name": "ipython",
    "version": 3
   },
   "file_extension": ".py",
   "mimetype": "text/x-python",
   "name": "python",
   "nbconvert_exporter": "python",
   "pygments_lexer": "ipython3",
   "version": "3.9.12"
  }
 },
 "nbformat": 4,
 "nbformat_minor": 5
}
