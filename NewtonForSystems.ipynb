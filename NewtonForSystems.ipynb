{
 "cells": [
  {
   "cell_type": "code",
   "execution_count": 1,
   "id": "d2cd4daf",
   "metadata": {},
   "outputs": [],
   "source": [
    "import numpy as np"
   ]
  },
  {
   "cell_type": "code",
   "execution_count": 2,
   "id": "4cf3db09",
   "metadata": {},
   "outputs": [],
   "source": [
    "def f1(x , y):\n",
    "    return np.sin(x + 2) - y - 1.5"
   ]
  },
  {
   "cell_type": "code",
   "execution_count": 3,
   "id": "b099d0d0",
   "metadata": {},
   "outputs": [],
   "source": [
    "def f2(x, y):\n",
    "    return x + np.cos(y - 2) - 0.5"
   ]
  },
  {
   "cell_type": "code",
   "execution_count": 4,
   "id": "02172544",
   "metadata": {},
   "outputs": [],
   "source": [
    "def A_inv(x, y):\n",
    "    A = np.zeros((2, 2))\n",
    "    A[0][0] = -np.sin(y - 2)\n",
    "    A[0][1] = 1\n",
    "    A[1][0] = -1\n",
    "    A[1][1] = np.cos(x + 2)\n",
    "    A = (1 / (1 - np.cos(x + 2)*np.sin(y-2))) * A\n",
    "    return A"
   ]
  },
  {
   "cell_type": "code",
   "execution_count": 5,
   "id": "e0e4609d",
   "metadata": {},
   "outputs": [],
   "source": [
    "def NewtonForSystems(x0, y0):\n",
    "    k = 1\n",
    "    x_old = [0, 0]\n",
    "    x_cur = [x0, y0]\n",
    "    x_new = x_cur - np.dot(A_inv(x_cur[0], x_cur[1]), [f1(x_cur[0], x_cur[1]), f2(x_cur[0], x_cur[1])])\n",
    "    while (abs(x_new[0] - x_cur[0]) >= (10**(-3))*(1 - (abs(x_new[0] - x_cur[0]) / abs(x_cur[0] - x_old[0]))) or abs(x_new[1] - x_cur[1]) >= (10**(-3))*(1 - (abs(x_new[1] - x_cur[1]) / abs(x_cur[1] - x_old[1])))):\n",
    "        x_old = x_cur\n",
    "        x_cur = x_new\n",
    "        x_new = x_new - np.dot(A_inv(x_new[0], x_new[1]), [f1(x_new[0], x_new[1]), f2(x_new[0], x_new[1])])\n",
    "        k += 1\n",
    "    return x_new, k"
   ]
  },
  {
   "cell_type": "markdown",
   "id": "4713fd8a",
   "metadata": {},
   "source": [
    "В $x_{old}$ у меня хранится $x_{n-2}$, в $x_{cur}$ лежит $x_{n-1}$, а в $x_{new}$ - $x_{n}$ соответственно. Из-за того, что я кривой, сначала всегда делается одна итерация, а потом мы заходим в цикл, где по известным формулам обновляем значения всех иксов. $\\newline$\n",
    "В данной реализации я проверяю неравентво на норму ошибки для каждой компоненты вектора ответов. Это не совсем правильно, но, кажется, я таким образом покрываю манхэттенскую норму, поэтому как бы ошибки нет, но я переписал ниже правильно для евклидовой нормы.$\\newline$\n",
    "Сам критерий был взят из задачника Аристова-Завьялова-Лобанов издание 14го года страница 95 формулы 8.4 и 8.5."
   ]
  },
  {
   "cell_type": "code",
   "execution_count": 16,
   "id": "0c01cb45",
   "metadata": {},
   "outputs": [],
   "source": [
    "def NewtonForSystems2(x0, y0):\n",
    "    k = 1\n",
    "    x_old = [0, 0]\n",
    "    x_cur = [x0, y0]\n",
    "    x_new = x_cur - np.dot(A_inv(x_cur[0], x_cur[1]), [f1(x_cur[0], x_cur[1]), f2(x_cur[0], x_cur[1])])\n",
    "    while (np.sqrt((x_new[0] - x_cur[0])**2 + (x_new[1] - x_cur[1])**2) >= (10**(-3)) * \n",
    "           (1 - (np.sqrt((x_new[0] - x_cur[0])**2+(x_new[1] - x_cur[1])**2) / (np.sqrt((x_cur[0] - x_old[0])**2+(x_cur[1] - x_old[1])**2))))):\n",
    "        x_old = x_cur\n",
    "        x_cur = x_new\n",
    "        x_new = x_new - np.dot(A_inv(x_new[0], x_new[1]), [f1(x_new[0], x_new[1]), f2(x_new[0], x_new[1])])\n",
    "        k += 1\n",
    "    return x_new, k"
   ]
  },
  {
   "cell_type": "code",
   "execution_count": 8,
   "id": "3d378ca0",
   "metadata": {},
   "outputs": [
    {
     "data": {
      "text/plain": [
       "(array([ 1.34633765, -1.70331749]), 4)"
      ]
     },
     "execution_count": 8,
     "metadata": {},
     "output_type": "execute_result"
    }
   ],
   "source": [
    "NewtonForSystems(1, -1)"
   ]
  },
  {
   "cell_type": "code",
   "execution_count": 9,
   "id": "bbf36d0b",
   "metadata": {},
   "outputs": [
    {
     "data": {
      "text/plain": [
       "(array([ 1.34633764, -1.70331748]), 43)"
      ]
     },
     "execution_count": 9,
     "metadata": {},
     "output_type": "execute_result"
    }
   ],
   "source": [
    "NewtonForSystems(-1, 2)"
   ]
  },
  {
   "cell_type": "code",
   "execution_count": 10,
   "id": "df385659",
   "metadata": {},
   "outputs": [
    {
     "data": {
      "text/plain": [
       "(array([ 1.34633767, -1.70331751]), 29)"
      ]
     },
     "execution_count": 10,
     "metadata": {},
     "output_type": "execute_result"
    }
   ],
   "source": [
    "NewtonForSystems(5, 10)"
   ]
  },
  {
   "cell_type": "code",
   "execution_count": 17,
   "id": "47dd1edf",
   "metadata": {},
   "outputs": [
    {
     "data": {
      "text/plain": [
       "(array([ 1.34633765, -1.70331749]), 4)"
      ]
     },
     "execution_count": 17,
     "metadata": {},
     "output_type": "execute_result"
    }
   ],
   "source": [
    "NewtonForSystems2(1, -1)"
   ]
  },
  {
   "cell_type": "code",
   "execution_count": 18,
   "id": "63b42a28",
   "metadata": {},
   "outputs": [
    {
     "data": {
      "text/plain": [
       "(array([ 1.34633764, -1.70331748]), 43)"
      ]
     },
     "execution_count": 18,
     "metadata": {},
     "output_type": "execute_result"
    }
   ],
   "source": [
    "NewtonForSystems2(-1, 2)"
   ]
  },
  {
   "cell_type": "code",
   "execution_count": 19,
   "id": "128c5017",
   "metadata": {},
   "outputs": [
    {
     "data": {
      "text/plain": [
       "(array([ 1.34633767, -1.70331751]), 29)"
      ]
     },
     "execution_count": 19,
     "metadata": {},
     "output_type": "execute_result"
    }
   ],
   "source": [
    "NewtonForSystems2(5, 10)"
   ]
  }
 ],
 "metadata": {
  "kernelspec": {
   "display_name": "Python 3 (ipykernel)",
   "language": "python",
   "name": "python3"
  },
  "language_info": {
   "codemirror_mode": {
    "name": "ipython",
    "version": 3
   },
   "file_extension": ".py",
   "mimetype": "text/x-python",
   "name": "python",
   "nbconvert_exporter": "python",
   "pygments_lexer": "ipython3",
   "version": "3.9.12"
  }
 },
 "nbformat": 4,
 "nbformat_minor": 5
}
