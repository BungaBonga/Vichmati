{
 "cells": [
  {
   "cell_type": "code",
   "execution_count": 35,
   "id": "6cbb521b",
   "metadata": {},
   "outputs": [],
   "source": [
    "import numpy as np\n",
    "import mpmath as mp\n",
    "mp.dps = 100"
   ]
  },
  {
   "cell_type": "code",
   "execution_count": 36,
   "id": "aa64542b",
   "metadata": {},
   "outputs": [],
   "source": [
    "def function(x):\n",
    "    return np.cos(np.sin(x))"
   ]
  },
  {
   "cell_type": "code",
   "execution_count": 37,
   "id": "f4bf5d74",
   "metadata": {},
   "outputs": [],
   "source": [
    "def Gauss_on_one(a, b):\n",
    "    return ((b-a)/(2))*(function((a+b)/(2) - (b-a)/(2*np.sqrt(3))) + function((a+b)/2 + (b-a)/(2*np.sqrt(3))))"
   ]
  },
  {
   "cell_type": "code",
   "execution_count": 38,
   "id": "dc8b8b60",
   "metadata": {},
   "outputs": [],
   "source": [
    "def complex_gauss(A, B, eps):\n",
    "    i = 1\n",
    "    counter = 0\n",
    "    ans = []\n",
    "    while ((16 / (24**4) * ((B - A)**5) / (i**2)) >= eps):\n",
    "        counter += 1\n",
    "        res = 0\n",
    "        i = 2**counter + 1\n",
    "        x = np.linspace(A, B, i)\n",
    "        for j in range(i-1):\n",
    "            res += (Gauss_on_one(x[j], x[j+1]))\n",
    "        ans.append(res)\n",
    "    \n",
    "    extrapolated = mp.fsub((ans[-1]), ((ans[-2] - (ans[-1]))**2) / ((ans[-3]) - 2*(ans[-2]) + (ans[-1])), prec = 100)\n",
    "\n",
    "    return ans[-1], extrapolated"
   ]
  },
  {
   "cell_type": "markdown",
   "id": "9cfa2788",
   "metadata": {},
   "source": [
    "$\\text{Критерий остановки был получен из следующей формулы:}$\n",
    "$$|R_n(f)|\\le\\frac{M_{2n}(n!)^4}{((2n)!)^3(2n+1)}(b-a)^{2n+1}$$\n",
    "$\\text{Эта оценка справедлива для одного отрезка разбиения, тогда общея погрешность не больше, чем } i\\cdot |R_n(f)|. \\text{В нашей задаче } n = 2,\\text{а } M_{4}\\text{ было получено из графика 4-ой производной, построенного в вольфраме: } M_{4} = 5.$\n",
    "$\\text{В массиве ans лежат значения интеграла для разных значений мелкости разбиения. Последнее -- на самом маленьком.}$\n",
    "$\\text{Т.к. значение, полученное составным методом Гаусса, получилось очень точным: порядка }10^{-15},\\text{ для экстраполяции методом Ричардсона(с использованием процесса Эйткина) пришлось воспользоваться вычитанием с произвольной}$\n",
    "$\\text{точностью. Полученное значение действительно ближе к реальному значению интеграла.}$"
   ]
  },
  {
   "cell_type": "code",
   "execution_count": 39,
   "id": "59bccc8d",
   "metadata": {},
   "outputs": [
    {
     "name": "stdout",
     "output_type": "stream",
     "text": [
      "Результат метода Гаусса: 2.4039394306344133\n",
      "Результат уточнения экстраполяцией: 2.4039394306344132879\n",
      "Реальное значение: 2.40393943063441299\n"
     ]
    }
   ],
   "source": [
    "res = complex_gauss(0, np.pi, 10**(-4))\n",
    "print(f\"Результат метода Гаусса: {res[0]}\")\n",
    "print(\"Результат уточнения экстраполяцией: \" + mp.nstr(res[1], 20))\n",
    "print(\"Реальное значение: 2.40393943063441299\")"
   ]
  }
 ],
 "metadata": {
  "kernelspec": {
   "display_name": "Python 3 (ipykernel)",
   "language": "python",
   "name": "python3"
  },
  "language_info": {
   "codemirror_mode": {
    "name": "ipython",
    "version": 3
   },
   "file_extension": ".py",
   "mimetype": "text/x-python",
   "name": "python",
   "nbconvert_exporter": "python",
   "pygments_lexer": "ipython3",
   "version": "3.9.12"
  }
 },
 "nbformat": 4,
 "nbformat_minor": 5
}
